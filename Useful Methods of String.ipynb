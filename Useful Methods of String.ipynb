{
 "cells": [
  {
   "cell_type": "markdown",
   "metadata": {},
   "source": [
    "# Useful Methods of String....\n",
    "### There are so many methods for string but these methods are very commonly used by all of the programmers. \n",
    "* format()\n",
    "* split()\n",
    "* capitalize()\n",
    "* len()\n",
    "* join()\n",
    "* count()\n",
    "* find()\n",
    "* replace()\n",
    "* strip()"
   ]
  },
  {
   "cell_type": "markdown",
   "metadata": {},
   "source": [
    "# format() \n",
    "### This is an essential method of python to generate formatted output. It has many uses and it can be applied on both string and numeric data to generate formatted output. How this method can be used for index-based formatting of string data is shown in the following example."
   ]
  },
  {
   "cell_type": "code",
   "execution_count": null,
   "metadata": {},
   "outputs": [],
   "source": [
    "# without format method\n",
    "print(\"Learn {0} programming\")\n",
    "\n",
    "print('---------------------------------------------')\n",
    "\n",
    "# With format method\n",
    "print(\"Learn {0} programming\".format(\"Python\"))"
   ]
  },
  {
   "cell_type": "code",
   "execution_count": null,
   "metadata": {},
   "outputs": [],
   "source": [
    "# with 2 arguments\n",
    "print(\"Both {} and {} are scripting languages\".format(\"Bash\", \"Python\"))"
   ]
  },
  {
   "cell_type": "code",
   "execution_count": null,
   "metadata": {},
   "outputs": [],
   "source": [
    "# Apply multiple index with index value\n",
    "print(\"Student ID: {0} and Student Name: {1}\".format(\"02121212\", \"Data Driven\"))"
   ]
  },
  {
   "cell_type": "code",
   "execution_count": null,
   "metadata": {},
   "outputs": [],
   "source": [
    "# Apply multiple index without any order\n",
    "print(\"{2} is a student of {0} department and he is studying in {1} semester\".format(\"CSE\",\n",
    "\"6\",\"Vijay\"))"
   ]
  },
  {
   "cell_type": "code",
   "execution_count": null,
   "metadata": {},
   "outputs": [],
   "source": [
    "## In Python 3 you can also use fstring.\n",
    "\n",
    "# without fstring\n",
    "print(\"{} is a student of {} department and he is studying in {} semester\")\n",
    "\n",
    "print('---------------------------------------------------------------------------------')\n",
    "\n",
    "# with fstring\n",
    "print(f\"{'Vijay'} is a student of {'CSE'} department and he is studying in {6} semester\")\n"
   ]
  },
  {
   "cell_type": "markdown",
   "metadata": {},
   "source": [
    "# split()\n",
    "### This method is used to divide any string data based on any particular separator or delimiter. It can take two arguments and both are optional. \n",
    "#### It will always return the list of elements which are stored in a string and all the elements are belongs to str class."
   ]
  },
  {
   "cell_type": "code",
   "execution_count": null,
   "metadata": {},
   "outputs": [],
   "source": [
    "# Define the first string value\n",
    "strVal1 = \"Python is very popular programming language now\"\n",
    "print(strVal1)\n",
    "\n",
    "print('------------------------------------------------------')\n",
    "\n",
    "# Split the string based on space\n",
    "splitList1 = strVal1.split()\n",
    "print(splitList1)"
   ]
  },
  {
   "cell_type": "code",
   "execution_count": null,
   "metadata": {},
   "outputs": [],
   "source": [
    "# Define the second string value\n",
    "strVal2 = \"Python : PERL : PHP : Bash : Java\"\n",
    "print(strVal2)\n",
    "\n",
    "print('------------------------------------------------')\n",
    "\n",
    "# Split the string based on ':'\n",
    "splitList2 = strVal2.split(':')\n",
    "print(splitList2)"
   ]
  },
  {
   "cell_type": "code",
   "execution_count": null,
   "metadata": {},
   "outputs": [],
   "source": [
    "# Define the third string value\n",
    "strVal3 = \"Name:Fiaz Ahmed, Batch:34, Semester:10, Dept:CSE\"\n",
    "print(strVal3)\n",
    "\n",
    "print('-------------------------------------------------------------------')\n",
    "\n",
    "# Split the string based on ',' and divide the string into three parts\n",
    "splitList3 = strVal3.split(',',2)\n",
    "print(splitList3)"
   ]
  },
  {
   "cell_type": "markdown",
   "metadata": {},
   "source": [
    "# capitalize() \n",
    "### This method is used to capitalize the first character of the string data and make the remaining characters to lower case."
   ]
  },
  {
   "cell_type": "code",
   "execution_count": null,
   "metadata": {},
   "outputs": [],
   "source": [
    "data = 'dATa drIVEN iS tHE pLaTfOrM foR mL, PYtHOn anD dATa iNDusTRy'\n",
    "print(data)\n",
    "\n",
    "print('---------------------------------------------------------------')\n",
    "data1 = data.capitalize()\n",
    "print(data1)"
   ]
  },
  {
   "cell_type": "code",
   "execution_count": null,
   "metadata": {},
   "outputs": [],
   "source": [
    "# upper() method will make the string in uppper case.\n",
    "\n",
    "data = 'dATa drIVEN iS tHE pLaTfOrM foR mL, PYtHOn anD dATa iNDusTRy'\n",
    "print(data)\n",
    "\n",
    "print('---------------------------------------------------------------')\n",
    "data1 = data.upper()\n",
    "print(data1)"
   ]
  },
  {
   "cell_type": "code",
   "execution_count": null,
   "metadata": {},
   "outputs": [],
   "source": [
    "# lower() method will make the string in lower case.\n",
    "\n",
    "data = 'dATa drIVEN iS tHE pLaTfOrM foR mL, PYtHOn anD dATa iNDusTRy'\n",
    "print(data)\n",
    "\n",
    "print('---------------------------------------------------------------')\n",
    "data1 = data.lower()\n",
    "print(data1)"
   ]
  },
  {
   "cell_type": "markdown",
   "metadata": {},
   "source": [
    "# len() \n",
    "### This method is used to count the total number of characters in a string."
   ]
  },
  {
   "cell_type": "code",
   "execution_count": null,
   "metadata": {},
   "outputs": [],
   "source": [
    "# Define a string value\n",
    "strVal=\"Python is easy to learn for the beginner.\"\n",
    "\n",
    "# Print the string value\n",
    "print(\"The string value:\",strVal)\n",
    " \n",
    "# Apply the len() method\n",
    "print(\"Total characters:\",len(strVal))"
   ]
  },
  {
   "cell_type": "markdown",
   "metadata": {},
   "source": [
    "# join() \n",
    "### This method is used to create a new string by combining other string with string, list of strings, or tuple of strings data."
   ]
  },
  {
   "cell_type": "code",
   "execution_count": null,
   "metadata": {},
   "outputs": [],
   "source": [
    "# Apply join on string data\n",
    "print('Joining each character with comma:', ','.join('linuxhint'))\n",
    "\n",
    "\n",
    "# Apply join on list of strings\n",
    "print('Joining list of strings with space:', ' '.join(['I','like', 'programming']))\n",
    "\n",
    "\n",
    "# Apply join on tuple of strings\n",
    "print('Joining tuple of strings with colon:', ':'.join(('011156432','Mehnaz', '10','45')))"
   ]
  },
  {
   "cell_type": "markdown",
   "metadata": {},
   "source": [
    "# count()\n",
    "### This method is used to count how many times a particular string appears in a text."
   ]
  },
  {
   "cell_type": "code",
   "execution_count": null,
   "metadata": {},
   "outputs": [],
   "source": [
    "# Define a long text with repeating words\n",
    "strVal = \"\"\"Python is a powerful programming language. It is very simple to use. \n",
    "It is an excellent language to learn programming for beginners.\"\"\"\n",
    "print(strVal)\n",
    "\n",
    "print('-------------------------------------------------------------------------------------------------------------------')\n",
    "\n",
    "# Use count method with searching argument\n",
    "print(\"The word 'is' appeared %d times\" %(strVal.count(\"is\")))\n",
    "\n",
    "\n",
    "# Use count method with searching argument and starting position\n",
    "print(\"The word 'is' appeared %d times after the position 20\" %(strVal.count(\"is\", 20)))\n",
    "\n",
    "\n",
    "# Use count method with searching argument, starting position and ending position\n",
    "print(\"The word 'is' appeared %d times within 50 to 100\" %(strVal.count(\"is\", 50, 100)))"
   ]
  },
  {
   "cell_type": "markdown",
   "metadata": {},
   "source": [
    "# find()\n",
    "### This method is used to search the position of a particular string in the main string and return the position if the string exists in the main string."
   ]
  },
  {
   "cell_type": "code",
   "execution_count": null,
   "metadata": {},
   "outputs": [],
   "source": [
    "strng = 'Learn Python programming'\n",
    "print(strng)\n",
    "\n",
    "\n",
    "# Search the position of the word 'python' from the starting\n",
    "print(strng.find('python'))  \n",
    "\n",
    "\n",
    "# Search the string 'program' from the position 10\n",
    "print(strng.find('program', 10))\n",
    "\n",
    "\n",
    "# Search the word 'earn' from 0 position and within next 5 characters  \n",
    "print(strng.find('earn', 0, 5))"
   ]
  },
  {
   "cell_type": "markdown",
   "metadata": {},
   "source": [
    "# replace()\n",
    "### This method is used to replace any particular portion of a string data by another string if the match found."
   ]
  },
  {
   "cell_type": "code",
   "execution_count": null,
   "metadata": {},
   "outputs": [],
   "source": [
    "strng = \"I like PHP but I like Python more\"\n",
    "print(strng)\n",
    "\n",
    "# Replace a particular string of the string data if found\n",
    "replace_str1 = strng.replace(\"PHP\", \"Java\")\n",
    "\n",
    "\n",
    "# Print the original string and the replaced string\n",
    "print(\"Original string:\", strng)\n",
    "print(\"Replaced string:\", replace_str1)\n",
    "\n",
    "\n",
    "# Replace a particular string of the string data for the first match\n",
    "replace_str2 = strng.replace(\"like\", \"dislike\",1)\n",
    "print(\"\\nOriginal string:\",strng)\n",
    "print(\"Replaced string:\",replace_str2)"
   ]
  },
  {
   "cell_type": "markdown",
   "metadata": {},
   "source": [
    "# strip()\n",
    "### This method is used to remove white spaces from both sides of a string. There are two related methods for removing white spaces. lstrip() method to remove the white space from the left side and rstrip() method to remove the white space from the right side of the string. This method does not take any argument."
   ]
  },
  {
   "cell_type": "code",
   "execution_count": null,
   "metadata": {},
   "outputs": [],
   "source": [
    "strVal = \"      Welcome to LinuxHint     \"\n",
    "\n",
    "# lstrip() remove all white spaces which is occurs on left side of the string.\n",
    "print(\"The output before lstrip():\", strVal,)\n",
    "print(\"The output after lstrip():\", strVal.lstrip(), '++++++++')\n",
    "\n",
    "print('--------------------------------------------------------------------------')\n",
    "\n",
    "# rstrip() remove all white spaces which is occurs on right side of string.\n",
    "print(\"The output before rstrip():\", strVal)\n",
    "print(\"The output after rstrip():\", strVal.rstrip(), '+++++++++')\n",
    "\n",
    "print('--------------------------------------------------------------------------')\n",
    "\n",
    "# strip() remove all the white spaces.\n",
    "print(\"The output before strip():\", strVal)\n",
    "print(\"The output after strip():\", strVal.strip(),'+++++++++++')"
   ]
  },
  {
   "cell_type": "code",
   "execution_count": null,
   "metadata": {},
   "outputs": [],
   "source": [
    "!pip install instaloader"
   ]
  },
  {
   "cell_type": "code",
   "execution_count": null,
   "metadata": {},
   "outputs": [],
   "source": [
    "import instaloader"
   ]
  },
  {
   "cell_type": "code",
   "execution_count": null,
   "metadata": {},
   "outputs": [],
   "source": [
    "ig = instaloader.Instaloader()\n",
    "dp = input('Enter the username: ')\n",
    "ig.download_profile(dp, profile_pic_only=True)"
   ]
  },
  {
   "cell_type": "code",
   "execution_count": 1,
   "metadata": {},
   "outputs": [
    {
     "name": "stdout",
     "output_type": "stream",
     "text": [
      "Enter the username: iamsule21\n",
      "Stored ID 4254387791 for profile iamsule21.\n",
      "iamsule21\\2021-08-18_16-28-51_UTC_profile_pic.jpg \n"
     ]
    }
   ],
   "source": [
    "import instaloader\n",
    "ig = instaloader.Instaloader()\n",
    "dp = input('Enter the username: ')\n",
    "ig.download_profile(dp, profile_pic_only=True)"
   ]
  },
  {
   "cell_type": "code",
   "execution_count": null,
   "metadata": {},
   "outputs": [],
   "source": []
  },
  {
   "cell_type": "code",
   "execution_count": null,
   "metadata": {},
   "outputs": [],
   "source": []
  },
  {
   "cell_type": "code",
   "execution_count": null,
   "metadata": {},
   "outputs": [],
   "source": []
  },
  {
   "cell_type": "code",
   "execution_count": null,
   "metadata": {},
   "outputs": [],
   "source": []
  },
  {
   "cell_type": "code",
   "execution_count": null,
   "metadata": {},
   "outputs": [],
   "source": []
  },
  {
   "cell_type": "code",
   "execution_count": null,
   "metadata": {},
   "outputs": [],
   "source": []
  },
  {
   "cell_type": "code",
   "execution_count": null,
   "metadata": {},
   "outputs": [],
   "source": []
  },
  {
   "cell_type": "code",
   "execution_count": null,
   "metadata": {},
   "outputs": [],
   "source": []
  }
 ],
 "metadata": {
  "kernelspec": {
   "display_name": "Python 3",
   "language": "python",
   "name": "python3"
  },
  "language_info": {
   "codemirror_mode": {
    "name": "ipython",
    "version": 3
   },
   "file_extension": ".py",
   "mimetype": "text/x-python",
   "name": "python",
   "nbconvert_exporter": "python",
   "pygments_lexer": "ipython3",
   "version": "3.7.4"
  }
 },
 "nbformat": 4,
 "nbformat_minor": 4
}
