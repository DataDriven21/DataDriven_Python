{
 "cells": [
  {
   "cell_type": "markdown",
   "metadata": {},
   "source": [
    "# Numeric\n",
    "\n",
    "#### In Python, the numeric data type represents data with a numeric value. There are 3 types of Numeric:\n",
    "* Integer\n",
    "* Float\n",
    "* Complex numbers"
   ]
  },
  {
   "cell_type": "code",
   "execution_count": 1,
   "metadata": {},
   "outputs": [
    {
     "name": "stdout",
     "output_type": "stream",
     "text": [
      "21\n",
      "<class 'int'>\n",
      "---------\n",
      "21.21\n",
      "<class 'float'>\n",
      "---------\n",
      "(21+21j)\n",
      "<class 'complex'>\n"
     ]
    }
   ],
   "source": [
    "print(21)\n",
    "print(type(21))         # This will belong to class int.\n",
    "print('---------')\n",
    "print(21.21)\n",
    "print(type(21.21))      # This will belong to class float. \n",
    "print('---------')\n",
    "print(21+21j)\n",
    "print(type(21+21j))     # This will belong to class complex."
   ]
  },
  {
   "cell_type": "markdown",
   "metadata": {},
   "source": [
    "# Sequence\n",
    "\n",
    "#### In Python, the sequence data type represents data which is store in a sequence manner. There are 3 types of Sequence data type:\n",
    "* String\n",
    "* List\n",
    "* Tuple\n"
   ]
  },
  {
   "cell_type": "code",
   "execution_count": 2,
   "metadata": {},
   "outputs": [
    {
     "name": "stdout",
     "output_type": "stream",
     "text": [
      "Data Driven\n",
      "<class 'str'>\n",
      "---------------------\n",
      "[1, 2, 3, 4, 5, 6, 7, 8, 9, 0]\n",
      "<class 'list'>\n",
      "---------------------\n",
      "(1, 2, 3, 4, 5, 6, 7, 8, 9, 0)\n",
      "<class 'tuple'>\n"
     ]
    }
   ],
   "source": [
    "strng = \"Data Driven\"\n",
    "print(strng)\n",
    "print(type(strng))               # This will belong to class \"String\"\n",
    "print('---------------------')\n",
    "lst = [1,2,3,4,5,6,7,8,9,0]\n",
    "print(lst)\n",
    "print(type(lst))                 # This will belong to class [list]\n",
    "print('---------------------')\n",
    "tple = (1,2,3,4,5,6,7,8,9,0)\n",
    "print(tple)\n",
    "print(type(tple))                # This will belong to class (tuple)"
   ]
  },
  {
   "cell_type": "markdown",
   "metadata": {},
   "source": [
    "# Boolean \n",
    "\n",
    "#### The Python Boolean type is one of Python's built-in data types. It's used to represent the truth value of an expression. It will deal in True and False. For example, the expression 1 < 2 is True , while the expression 0 > 1 is False ."
   ]
  },
  {
   "cell_type": "code",
   "execution_count": 3,
   "metadata": {},
   "outputs": [
    {
     "name": "stdout",
     "output_type": "stream",
     "text": [
      "True\n",
      "<class 'bool'>\n",
      "----------\n",
      "False\n",
      "<class 'bool'>\n"
     ]
    }
   ],
   "source": [
    "print(2>0)\n",
    "print(type(2>0))      \n",
    "print('----------')\n",
    "print(0>2)\n",
    "print(type(0>2))"
   ]
  },
  {
   "cell_type": "markdown",
   "metadata": {},
   "source": [
    "# Set\n",
    "\n",
    "#### A set is an unordered collection of items. Every set element is unique (no duplicates) a set itself is mutable. We can add or remove items from it. sets are highly useful to efficiently remove duplicate values from a collection like a list and tuple. It is represented by {} braces. Ex: {1,2,3}, {'a', 'b', 'c', 'd', 'e'}, always remember set not contain any duplicate values in it."
   ]
  },
  {
   "cell_type": "code",
   "execution_count": 4,
   "metadata": {},
   "outputs": [
    {
     "name": "stdout",
     "output_type": "stream",
     "text": [
      "{1, 2, 3, 4, 5, 6}\n",
      "<class 'set'>\n",
      "------------------------------------\n",
      "{0, 1, 2, 3, 4, 5, 6, 7, 8, 9}\n"
     ]
    }
   ],
   "source": [
    "a = {1,2,3,4,5,6}\n",
    "print(a)\n",
    "print(type(a))                                 # This will belong to class {set}\n",
    "print('------------------------------------')\n",
    "b = {1,2,1,2,3,3,4,5,5,5,6,7,7,8,8,9,9,0}      \n",
    "print(b)                                       # It will remove all duplicate values"
   ]
  },
  {
   "cell_type": "markdown",
   "metadata": {},
   "source": [
    "# Dictionary\n",
    "\n",
    "#### Python dictionary is an unordered collection of items. Each item of a dictionary has a key/value pair. Dictionaries are optimized to retrieve values when the key is known and it is represented by {} braces. Ex: {'Name': 'Data Driven'}, where key is 'Name' and value is 'Data Driven', more example like {'firstname':'Data', 'lastname': 'Driven', 'age' : 23, 'domain': 'datascience'}\n"
   ]
  },
  {
   "cell_type": "code",
   "execution_count": 5,
   "metadata": {},
   "outputs": [
    {
     "name": "stdout",
     "output_type": "stream",
     "text": [
      "{'Name': 'Data Driven', 'Platform': 'Instagram', 'Time': 3}\n",
      "<class 'dict'>\n"
     ]
    }
   ],
   "source": [
    "d = {'Name' : 'Data Driven', 'Platform' : 'Instagram', 'Time' : 3}\n",
    "print(d)\n",
    "print(type(d)) # this will belong to class {dict}"
   ]
  },
  {
   "cell_type": "code",
   "execution_count": 6,
   "metadata": {
    "scrolled": true
   },
   "outputs": [
    {
     "name": "stdout",
     "output_type": "stream",
     "text": [
      "The Zen of Python, by Tim Peters\n",
      "\n",
      "Beautiful is better than ugly.\n",
      "Explicit is better than implicit.\n",
      "Simple is better than complex.\n",
      "Complex is better than complicated.\n",
      "Flat is better than nested.\n",
      "Sparse is better than dense.\n",
      "Readability counts.\n",
      "Special cases aren't special enough to break the rules.\n",
      "Although practicality beats purity.\n",
      "Errors should never pass silently.\n",
      "Unless explicitly silenced.\n",
      "In the face of ambiguity, refuse the temptation to guess.\n",
      "There should be one-- and preferably only one --obvious way to do it.\n",
      "Although that way may not be obvious at first unless you're Dutch.\n",
      "Now is better than never.\n",
      "Although never is often better than *right* now.\n",
      "If the implementation is hard to explain, it's a bad idea.\n",
      "If the implementation is easy to explain, it may be a good idea.\n",
      "Namespaces are one honking great idea -- let's do more of those!\n"
     ]
    }
   ],
   "source": [
    "import this"
   ]
  }
 ],
 "metadata": {
  "kernelspec": {
   "display_name": "Python 3",
   "language": "python",
   "name": "python3"
  },
  "language_info": {
   "codemirror_mode": {
    "name": "ipython",
    "version": 3
   },
   "file_extension": ".py",
   "mimetype": "text/x-python",
   "name": "python",
   "nbconvert_exporter": "python",
   "pygments_lexer": "ipython3",
   "version": "3.7.4"
  }
 },
 "nbformat": 4,
 "nbformat_minor": 4
}
