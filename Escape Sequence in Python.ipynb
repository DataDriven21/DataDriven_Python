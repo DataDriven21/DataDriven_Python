{
 "cells": [
  {
   "cell_type": "code",
   "execution_count": 1,
   "metadata": {},
   "outputs": [
    {
     "name": "stdout",
     "output_type": "stream",
     "text": [
      "It's DataDriven. Output of Single Quote\n",
      "This will insert one \\ (backslash). Output of Backslash\n",
      "Welcome to \n",
      "Data Driven!. Output of New line\n",
      "Data\r",
      "Driven. Output of Carriage return\n",
      "Data\tDrivne!. Output of Tab\n",
      "Data \bDriven!. Output of Backspace\n"
     ]
    }
   ],
   "source": [
    "# \\'\tSingle Quote\n",
    "txt = 'It\\'s DataDriven. Output of Single Quote'                   # \\'s \n",
    "print(txt) \n",
    "\n",
    "# \\\\\tBackslash\n",
    "txt = \"This will insert one \\\\ (backslash). Output of Backslash\"   # \\\\\n",
    "print(txt) \n",
    "\n",
    "# \\n\tNew Line\n",
    "txt = \"Welcome to \\nData Driven!. Output of New line\"               # \\n \n",
    "print(txt) \n",
    "\n",
    "# \\r\tCarriage Return\t\n",
    "txt = \"Data\\rDriven. Output of Carriage return\"                      # \\r\n",
    "print(txt) \n",
    "\n",
    "# \\t\tTab\n",
    "txt = \"Data\\tDrivne!. Output of Tab\"                                   #\\t\n",
    "print(txt) \n",
    "\n",
    "# \\b\tBackspace\n",
    "txt = \"Data \\bDriven!. Output of Backspace\"                            #\\b\n",
    "print(txt) \n"
   ]
  },
  {
   "cell_type": "code",
   "execution_count": null,
   "metadata": {},
   "outputs": [],
   "source": []
  },
  {
   "cell_type": "code",
   "execution_count": null,
   "metadata": {},
   "outputs": [],
   "source": []
  },
  {
   "cell_type": "code",
   "execution_count": null,
   "metadata": {},
   "outputs": [],
   "source": []
  },
  {
   "cell_type": "code",
   "execution_count": null,
   "metadata": {},
   "outputs": [],
   "source": []
  },
  {
   "cell_type": "code",
   "execution_count": null,
   "metadata": {},
   "outputs": [],
   "source": []
  },
  {
   "cell_type": "code",
   "execution_count": null,
   "metadata": {},
   "outputs": [],
   "source": []
  }
 ],
 "metadata": {
  "kernelspec": {
   "display_name": "Python 3",
   "language": "python",
   "name": "python3"
  },
  "language_info": {
   "codemirror_mode": {
    "name": "ipython",
    "version": 3
   },
   "file_extension": ".py",
   "mimetype": "text/x-python",
   "name": "python",
   "nbconvert_exporter": "python",
   "pygments_lexer": "ipython3",
   "version": "3.7.4"
  }
 },
 "nbformat": 4,
 "nbformat_minor": 4
}
