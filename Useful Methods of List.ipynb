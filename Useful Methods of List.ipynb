{
 "cells": [
  {
   "cell_type": "markdown",
   "metadata": {},
   "source": [
    "# Useful Methods of List.\n",
    "* insert()\n",
    "* append()\n",
    "* remove()\n",
    "* extend()\n",
    "* count()\n",
    "* index()\n",
    "* copy()\n",
    "* sort()\n",
    "* reverse()\n",
    "* clear()\n"
   ]
  },
  {
   "cell_type": "markdown",
   "metadata": {},
   "source": [
    "# insert()\n",
    "## The insert() method is used to insert a new item into a particular position in the list."
   ]
  },
  {
   "cell_type": "code",
   "execution_count": 1,
   "metadata": {},
   "outputs": [
    {
     "name": "stdout",
     "output_type": "stream",
     "text": [
      "Before inserting 5 [1, 2, 3, 4, 6, 7, 8, 9]\n",
      "----------------------------------------------------------\n",
      "After inserting 5 at 4th postion [1, 2, 3, 4, 5, 6, 7, 8, 9]\n"
     ]
    }
   ],
   "source": [
    "mylist = [1,2,3,4,6,7,8,9]\n",
    "print('Before inserting 5', mylist)\n",
    "print('----------------------------------------------------------')\n",
    "\n",
    "\n",
    "mylist.insert(4,5)\n",
    "# insert 5 at 4th position\n",
    "print('After inserting 5 at 4th postion', mylist)"
   ]
  },
  {
   "cell_type": "markdown",
   "metadata": {},
   "source": [
    "# append()\n",
    "## The append() method is used to insert a new item at the end of the list."
   ]
  },
  {
   "cell_type": "code",
   "execution_count": 2,
   "metadata": {},
   "outputs": [
    {
     "name": "stdout",
     "output_type": "stream",
     "text": [
      "Before appending 10 [1, 2, 3, 4, 5, 6, 7, 8, 9]\n",
      "------------------------------------------------------------------------\n",
      "After appending 10 [1, 2, 3, 4, 5, 6, 7, 8, 9, 10]\n"
     ]
    }
   ],
   "source": [
    "mylist = [1,2,3,4,5,6,7,8,9]\n",
    "print('Before appending 10', mylist)\n",
    "print('------------------------------------------------------------------------')\n",
    "\n",
    "mylist.append(10)\n",
    "# append method always append the element at last of the list.\n",
    "print('After appending 10', mylist)"
   ]
  },
  {
   "cell_type": "markdown",
   "metadata": {},
   "source": [
    "# remove()\n",
    "## The remove() method is used to remove a particular item from the list."
   ]
  },
  {
   "cell_type": "code",
   "execution_count": 3,
   "metadata": {},
   "outputs": [
    {
     "name": "stdout",
     "output_type": "stream",
     "text": [
      "Before removing any element [1, 2, 3, 4, 5, 6, 7, 8, 9, 10]\n",
      "--------------------------------------------------------------------\n",
      "After removing the element 5 [1, 2, 3, 4, 6, 7, 8, 9, 10]\n"
     ]
    }
   ],
   "source": [
    "mylist = [1,2,3,4,5,6,7,8,9,10]\n",
    "print('Before removing any element',mylist)\n",
    "print('--------------------------------------------------------------------')\n",
    "\n",
    "mylist.remove(5)\n",
    "print('After removing the element 5', mylist)"
   ]
  },
  {
   "cell_type": "markdown",
   "metadata": {},
   "source": [
    "# extend()\n",
    "## The extend() method is used to merge two list items and store the merged items in the first list."
   ]
  },
  {
   "cell_type": "code",
   "execution_count": 4,
   "metadata": {},
   "outputs": [
    {
     "name": "stdout",
     "output_type": "stream",
     "text": [
      "Before extending [1, 2, 3, 4, 5, 6, 7, 8, 9, 10]\n",
      "-------------------------------------------------------------------------\n",
      "After extending the extndlst varibale into mylist [1, 2, 3, 4, 5, 6, 7, 8, 9, 10, 11, 12, 13, 14, 15, 16, 17, 18, 19, 20]\n"
     ]
    }
   ],
   "source": [
    "mylist = [1,2,3,4,5,6,7,8,9,10]\n",
    "print('Before extending', mylist)\n",
    "print('-------------------------------------------------------------------------')\n",
    "\n",
    "extndlist = [11,12,13,14,15,16,17,18,19,20]\n",
    "mylist.extend(extndlist)\n",
    "print('After extending the extndlst varibale into mylist', mylist)"
   ]
  },
  {
   "cell_type": "markdown",
   "metadata": {},
   "source": [
    "# count()\n",
    "## The count() method is used to count the number times that any given item appears in a list."
   ]
  },
  {
   "cell_type": "code",
   "execution_count": 6,
   "metadata": {},
   "outputs": [
    {
     "name": "stdout",
     "output_type": "stream",
     "text": [
      "How many times 21 is present in mylist: 8\n"
     ]
    }
   ],
   "source": [
    "mylist = [1, 21, 3, 4, 5, 6, 21, 8, 9, 21, 21, 21, 13, 14, 15, 21, 17, 21, 19, 20, 21]\n",
    "\n",
    "print('How many times 21 is present in mylist:',mylist.count(21))"
   ]
  },
  {
   "cell_type": "markdown",
   "metadata": {},
   "source": [
    "# index()\n",
    "## The index() method is used to obtain the position value of any item in the list.\n"
   ]
  },
  {
   "cell_type": "code",
   "execution_count": 7,
   "metadata": {},
   "outputs": [
    {
     "name": "stdout",
     "output_type": "stream",
     "text": [
      "What is the index value of 5 in mylist: 4\n"
     ]
    }
   ],
   "source": [
    "mylist = [1, 2, 3, 4, 5, 6, 7, 8, 9, 10]\n",
    "\n",
    "print('What is the index value of 5 in mylist:', mylist.index(5))"
   ]
  },
  {
   "cell_type": "markdown",
   "metadata": {},
   "source": [
    "# copy()\n",
    "## The copy() method is used to make a copy of a list. This method is useful for keeping original list values before modifying the list."
   ]
  },
  {
   "cell_type": "code",
   "execution_count": 8,
   "metadata": {},
   "outputs": [
    {
     "name": "stdout",
     "output_type": "stream",
     "text": [
      "This is mylist: [1, 2, 3, 4, 5, 6, 7, 8, 9, 10]\n",
      "This is mylist2: [1, 2, 3, 4, 5, 6, 7, 8, 9, 10]\n"
     ]
    }
   ],
   "source": [
    "mylist = [1, 2, 3, 4, 5, 6, 7, 8, 9, 10]\n",
    "\n",
    "# copy mylist in mylist2\n",
    "\n",
    "mylist2 = mylist.copy()\n",
    "\n",
    "print('This is mylist:', mylist)\n",
    "print('This is mylist2:', mylist2)"
   ]
  },
  {
   "cell_type": "markdown",
   "metadata": {},
   "source": [
    "# sort()\n",
    "## The sort() method is used to sort list data."
   ]
  },
  {
   "cell_type": "code",
   "execution_count": 9,
   "metadata": {},
   "outputs": [
    {
     "name": "stdout",
     "output_type": "stream",
     "text": [
      "Unsorted mylist: [3, 4, 6, 8, 8, 6, 53, 5, 45, 0, 6, 89, 8, 6, 5, 4, 3, 2, 2, 2, 3, 4, 6, 0]\n",
      "Sorted mylist: [0, 0, 2, 2, 2, 3, 3, 3, 4, 4, 4, 5, 5, 6, 6, 6, 6, 6, 8, 8, 8, 45, 53, 89]\n"
     ]
    }
   ],
   "source": [
    "mylist = [3,4,6,8,8,6,53,5,45,0,6,89,8,6,5,4,3,2,2,2,3,4,6,0]\n",
    "print('Unsorted mylist:', mylist)\n",
    "\n",
    "mylist.sort()\n",
    "print('Sorted mylist:', mylist)"
   ]
  },
  {
   "cell_type": "markdown",
   "metadata": {},
   "source": [
    "# reverse()\n",
    "## The reverse() method is used to reverse the items in any list. This method is useful for sorting lists in descending order.\n"
   ]
  },
  {
   "cell_type": "code",
   "execution_count": 10,
   "metadata": {},
   "outputs": [
    {
     "name": "stdout",
     "output_type": "stream",
     "text": [
      "Before reversing mylist: [1, 2, 3, 4, 5, 6, 7, 8, 9, 10]\n",
      "Afte reversing mylist: [10, 9, 8, 7, 6, 5, 4, 3, 2, 1]\n"
     ]
    }
   ],
   "source": [
    "mylist = [1,2,3,4,5,6,7,8,9,10]\n",
    "print('Before reversing mylist:', mylist)\n",
    "\n",
    "mylist.reverse()\n",
    "print('Afte reversing mylist:', mylist)"
   ]
  },
  {
   "cell_type": "markdown",
   "metadata": {},
   "source": [
    "# clear()\n",
    "## The clear() method is used to remove all the items in a list and to empty lists. This method is useful for re-assigning the values of a list by removing the previous items.\n"
   ]
  },
  {
   "cell_type": "code",
   "execution_count": 11,
   "metadata": {},
   "outputs": [
    {
     "name": "stdout",
     "output_type": "stream",
     "text": [
      "Before clearing mylist: [1, 2, 3, 4, 5, 6, 7, 8, 9, 10]\n",
      "After apply clear method to mylist: []\n"
     ]
    }
   ],
   "source": [
    "mylist = [1,2,3,4,5,6,7,8,9,10]\n",
    "print('Before clearing mylist:', mylist)\n",
    "\n",
    "mylist.clear()\n",
    "print('After apply clear method to mylist:', mylist)"
   ]
  },
  {
   "cell_type": "code",
   "execution_count": null,
   "metadata": {},
   "outputs": [],
   "source": []
  }
 ],
 "metadata": {
  "kernelspec": {
   "display_name": "Python 3",
   "language": "python",
   "name": "python3"
  },
  "language_info": {
   "codemirror_mode": {
    "name": "ipython",
    "version": 3
   },
   "file_extension": ".py",
   "mimetype": "text/x-python",
   "name": "python",
   "nbconvert_exporter": "python",
   "pygments_lexer": "ipython3",
   "version": "3.7.4"
  }
 },
 "nbformat": 4,
 "nbformat_minor": 4
}
