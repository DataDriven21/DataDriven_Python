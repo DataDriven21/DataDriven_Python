{
 "cells": [
  {
   "cell_type": "markdown",
   "metadata": {},
   "source": [
    "# Useful Methods of Dictionary\n",
    "* clear()\t\n",
    "* copy()\t\n",
    "* fromkeys()\t\n",
    "* get()\t\n",
    "* items()\t\n",
    "* keys()\t\n",
    "* pop()\t\n",
    "* popitem()\t\n",
    "* setdefault()\t\n",
    "* update()\t\n",
    "* values()\t"
   ]
  },
  {
   "cell_type": "markdown",
   "metadata": {},
   "source": [
    "# clear()\t\n",
    "## Removes all the elements from the dictionary."
   ]
  },
  {
   "cell_type": "code",
   "execution_count": 1,
   "metadata": {},
   "outputs": [
    {
     "name": "stdout",
     "output_type": "stream",
     "text": [
      "Dictionary {'fname': 'Data', 'lname': 'Driven', 'platform': 'Instagram', 'Domain': 'DataScience', 'post': 28}\n",
      "------------------------------------------------------\n",
      "Dictionary {}\n"
     ]
    }
   ],
   "source": [
    "datadriven = {'fname':'Data', 'lname': 'Driven', 'platform':'Instagram', 'Domain': 'DataScience', 'post': 28}\n",
    "print('Dictionary', datadriven)\n",
    "print('------------------------------------------------------')\n",
    "\n",
    "# applying clear() method to datadriven\n",
    "datadriven.clear()  \n",
    "print('Dictionary', datadriven)"
   ]
  },
  {
   "cell_type": "markdown",
   "metadata": {},
   "source": [
    "# copy()\t\n",
    "## Returns a copy of the dictionary."
   ]
  },
  {
   "cell_type": "code",
   "execution_count": 2,
   "metadata": {},
   "outputs": [
    {
     "name": "stdout",
     "output_type": "stream",
     "text": [
      "Dictionary {'fname': 'Data', 'lname': 'Driven', 'platform': 'Instagram', 'Domain': 'DataScience', 'post': 28}\n",
      "------------------------------------------------------\n",
      "Dictionary2 {'fname': 'Data', 'lname': 'Driven', 'platform': 'Instagram', 'Domain': 'DataScience', 'post': 28}\n"
     ]
    }
   ],
   "source": [
    "datadriven = {'fname':'Data', 'lname': 'Driven', 'platform':'Instagram', 'Domain': 'DataScience', 'post': 28}\n",
    "print('Dictionary', datadriven)\n",
    "print('------------------------------------------------------')\n",
    "\n",
    "# applying copy() method to datadriven\n",
    "datadriven2 = datadriven.copy()\n",
    "print('Dictionary2',datadriven2)"
   ]
  },
  {
   "cell_type": "markdown",
   "metadata": {},
   "source": [
    "# fromkeys()\t\n",
    "## Returns a dictionary with the specified keys and value."
   ]
  },
  {
   "cell_type": "code",
   "execution_count": 3,
   "metadata": {},
   "outputs": [
    {
     "name": "stdout",
     "output_type": "stream",
     "text": [
      "{'o': 'vowel', 'u': 'vowel', 'i': 'vowel', 'e': 'vowel', 'a': 'vowel'}\n"
     ]
    }
   ],
   "source": [
    "keys = {'a', 'e', 'i', 'o', 'u' }\n",
    "value = 'vowel'\n",
    "\n",
    "# applying fromkeys() method\n",
    "vowels = dict.fromkeys(keys, value)\n",
    "print(vowels)"
   ]
  },
  {
   "cell_type": "markdown",
   "metadata": {},
   "source": [
    "# get()\t\n",
    "## Returns the value of the specified key."
   ]
  },
  {
   "cell_type": "code",
   "execution_count": 4,
   "metadata": {},
   "outputs": [
    {
     "name": "stdout",
     "output_type": "stream",
     "text": [
      "Dictionary {'fname': 'Data', 'lname': 'Driven', 'platform': 'Instagram', 'Domain': 'DataScience', 'post': 28}\n",
      "------------------------------------------------------\n",
      "Value of Domain: DataScience\n"
     ]
    }
   ],
   "source": [
    "datadriven = {'fname':'Data', 'lname': 'Driven', 'platform':'Instagram', 'Domain': 'DataScience', 'post': 28}\n",
    "print('Dictionary', datadriven)\n",
    "print('------------------------------------------------------')\n",
    "\n",
    "# applying get() method\n",
    "print('Value of Domain:',datadriven.get('Domain'))"
   ]
  },
  {
   "cell_type": "markdown",
   "metadata": {},
   "source": [
    "# items()\t\n",
    "## Returns a list containing a tuple for each key value pair."
   ]
  },
  {
   "cell_type": "code",
   "execution_count": 5,
   "metadata": {},
   "outputs": [
    {
     "name": "stdout",
     "output_type": "stream",
     "text": [
      "Dictionary {'fname': 'Data', 'lname': 'Driven', 'platform': 'Instagram', 'Domain': 'DataScience', 'post': 28}\n",
      "------------------------------------------------------\n",
      "Item of Dictionary: ('fname', 'Data')\n",
      "Item of Dictionary: ('lname', 'Driven')\n",
      "Item of Dictionary: ('platform', 'Instagram')\n",
      "Item of Dictionary: ('Domain', 'DataScience')\n",
      "Item of Dictionary: ('post', 28)\n"
     ]
    }
   ],
   "source": [
    "datadriven = {'fname':'Data', 'lname': 'Driven', 'platform':'Instagram', 'Domain': 'DataScience', 'post': 28}\n",
    "print('Dictionary', datadriven)\n",
    "print('------------------------------------------------------')\n",
    "\n",
    "# applying items() method\n",
    "for itm in datadriven.items():\n",
    "    print('Item of Dictionary:',itm)"
   ]
  },
  {
   "cell_type": "markdown",
   "metadata": {},
   "source": [
    "# keys()\t\n",
    "## Returns a list containing the dictionary's keys."
   ]
  },
  {
   "cell_type": "code",
   "execution_count": 6,
   "metadata": {},
   "outputs": [
    {
     "name": "stdout",
     "output_type": "stream",
     "text": [
      "Dictionary {'fname': 'Data', 'lname': 'Driven', 'platform': 'Instagram', 'Domain': 'DataScience', 'post': 28}\n",
      "------------------------------------------------------\n",
      "Keys of Dictionary: fname\n",
      "Keys of Dictionary: lname\n",
      "Keys of Dictionary: platform\n",
      "Keys of Dictionary: Domain\n",
      "Keys of Dictionary: post\n"
     ]
    }
   ],
   "source": [
    "datadriven = {'fname':'Data', 'lname': 'Driven', 'platform':'Instagram', 'Domain': 'DataScience', 'post': 28}\n",
    "print('Dictionary', datadriven)\n",
    "print('------------------------------------------------------')\n",
    "\n",
    "# applying keys() method\n",
    "for keys in datadriven.keys():\n",
    "    print('Keys of Dictionary:',keys)"
   ]
  },
  {
   "cell_type": "markdown",
   "metadata": {},
   "source": [
    "# pop()\t\n",
    "## Removes the element with the specified key."
   ]
  },
  {
   "cell_type": "code",
   "execution_count": 7,
   "metadata": {},
   "outputs": [
    {
     "name": "stdout",
     "output_type": "stream",
     "text": [
      "Dictionary {'fname': 'Data', 'lname': 'Driven', 'platform': 'Instagram', 'Domain': 'DataScience', 'post': 28}\n",
      "------------------------------------------------------\n",
      "After poping the platform key from dictionary: {'fname': 'Data', 'lname': 'Driven', 'Domain': 'DataScience', 'post': 28}\n"
     ]
    }
   ],
   "source": [
    "datadriven = {'fname':'Data', 'lname': 'Driven', 'platform':'Instagram', 'Domain': 'DataScience', 'post': 28}\n",
    "print('Dictionary', datadriven)\n",
    "print('------------------------------------------------------')\n",
    "\n",
    "# applying pop() method\n",
    "datadriven.pop('platform')\n",
    "print('After poping the platform key from dictionary:',datadriven)"
   ]
  },
  {
   "cell_type": "markdown",
   "metadata": {},
   "source": [
    "# popitem()\t\n",
    "## Removes the last inserted key-value pair."
   ]
  },
  {
   "cell_type": "code",
   "execution_count": 8,
   "metadata": {},
   "outputs": [
    {
     "name": "stdout",
     "output_type": "stream",
     "text": [
      "Dictionary {'fname': 'Data', 'lname': 'Driven', 'platform': 'Instagram', 'Domain': 'DataScience', 'post': 28}\n",
      "------------------------------------------------------\n",
      "After popitem from dictionary: {'fname': 'Data', 'lname': 'Driven', 'platform': 'Instagram', 'Domain': 'DataScience'}\n"
     ]
    }
   ],
   "source": [
    "datadriven = {'fname':'Data', 'lname': 'Driven', 'platform':'Instagram', 'Domain': 'DataScience', 'post': 28}\n",
    "print('Dictionary', datadriven)\n",
    "print('------------------------------------------------------')\n",
    "\n",
    "# applying popitem() method\n",
    "datadriven.popitem()\n",
    "print('After popitem from dictionary:',datadriven)  # it will pop the last key-value pair from dictionary."
   ]
  },
  {
   "cell_type": "markdown",
   "metadata": {},
   "source": [
    "# setdefault()\t\n",
    "## Returns the value of the specified key. If the key does not exist: insert the key, with the specified value."
   ]
  },
  {
   "cell_type": "code",
   "execution_count": 9,
   "metadata": {},
   "outputs": [
    {
     "name": "stdout",
     "output_type": "stream",
     "text": [
      "Dictionary {'fname': 'Data', 'lname': 'Driven', 'platform': 'Instagram', 'Domain': 'DataScience', 'post': 28}\n",
      "------------------------------------------------------\n",
      "Number of post on DataDriven: 28\n"
     ]
    }
   ],
   "source": [
    "datadriven = {'fname':'Data', 'lname': 'Driven', 'platform':'Instagram', 'Domain': 'DataScience', 'post': 28}\n",
    "print('Dictionary', datadriven)\n",
    "print('------------------------------------------------------')\n",
    "\n",
    "# applying setdefault() method\n",
    "number_of_post = datadriven.setdefault('post')\n",
    "print('Number of post on DataDriven:',number_of_post)"
   ]
  },
  {
   "cell_type": "markdown",
   "metadata": {},
   "source": [
    "# update()\t\n",
    "## Updates the dictionary with the specified key-value pairs"
   ]
  },
  {
   "cell_type": "code",
   "execution_count": 10,
   "metadata": {},
   "outputs": [
    {
     "name": "stdout",
     "output_type": "stream",
     "text": [
      "Dictionary {'fname': 'Data', 'lname': 'Driven', 'platform': 'Instagram', 'Domain': 'DataScience', 'post': 28}\n",
      "------------------------------------------------------\n",
      "After updating days in dictionary: {'fname': 'Data', 'lname': 'Driven', 'platform': 'Instagram', 'Domain': 'DataScience', 'post': 28, 'days': 21}\n"
     ]
    }
   ],
   "source": [
    "datadriven = {'fname':'Data', 'lname': 'Driven', 'platform':'Instagram', 'Domain': 'DataScience', 'post': 28}\n",
    "print('Dictionary', datadriven)\n",
    "print('------------------------------------------------------')\n",
    "\n",
    "# applying update() method\n",
    "datadriven.update({'days':21})\n",
    "\n",
    "\n",
    "print('After updating days in dictionary:',datadriven)\n",
    "    "
   ]
  },
  {
   "cell_type": "markdown",
   "metadata": {},
   "source": [
    "# values()\t\n",
    "## Returns a list of all the values in the dictionary."
   ]
  },
  {
   "cell_type": "code",
   "execution_count": 11,
   "metadata": {},
   "outputs": [
    {
     "name": "stdout",
     "output_type": "stream",
     "text": [
      "Dictionary {'fname': 'Data', 'lname': 'Driven', 'platform': 'Instagram', 'Domain': 'DataScience', 'post': 28}\n",
      "------------------------------------------------------\n",
      "Values of dictionary: Data\n",
      "Values of dictionary: Driven\n",
      "Values of dictionary: Instagram\n",
      "Values of dictionary: DataScience\n",
      "Values of dictionary: 28\n"
     ]
    }
   ],
   "source": [
    "datadriven = {'fname':'Data', 'lname': 'Driven', 'platform':'Instagram', 'Domain': 'DataScience', 'post': 28}\n",
    "print('Dictionary', datadriven)\n",
    "print('------------------------------------------------------')\n",
    "\n",
    "# applying values() method\n",
    "\n",
    "for values in datadriven.values():\n",
    "    print('Values of dictionary:',values)\n",
    "    "
   ]
  },
  {
   "cell_type": "markdown",
   "metadata": {},
   "source": [
    "# Thank you!!!"
   ]
  },
  {
   "cell_type": "code",
   "execution_count": null,
   "metadata": {},
   "outputs": [],
   "source": []
  }
 ],
 "metadata": {
  "kernelspec": {
   "display_name": "Python 3",
   "language": "python",
   "name": "python3"
  },
  "language_info": {
   "codemirror_mode": {
    "name": "ipython",
    "version": 3
   },
   "file_extension": ".py",
   "mimetype": "text/x-python",
   "name": "python",
   "nbconvert_exporter": "python",
   "pygments_lexer": "ipython3",
   "version": "3.7.4"
  }
 },
 "nbformat": 4,
 "nbformat_minor": 4
}
