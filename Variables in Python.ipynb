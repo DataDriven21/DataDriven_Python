{
 "cells": [
  {
   "cell_type": "markdown",
   "metadata": {},
   "source": [
    "# Variable\n",
    "\n",
    "### Python variable is a reserved memory location to store values. In other words, a variable in a python program gives data to the computer for processing. You can store anything in Variable like : String, List, Tuple, Set, Dictionary, Integer, Float, Complex Numbers, Booleans. A variable is created the moment you first assign a value to it.\n",
    "\n",
    "#### There are some convention to define a vaibale in Python\n",
    "* A variable name must start with a letter or the underscore character\n",
    "* A variable name cannot start with a number\n",
    "* A variable name can only contain alpha-numeric characters and underscores (A-z, 0-9, and _ )\n",
    "* Variable names are case-sensitive (age, Age and AGE are three different variables)"
   ]
  },
  {
   "cell_type": "code",
   "execution_count": 1,
   "metadata": {},
   "outputs": [
    {
     "name": "stdout",
     "output_type": "stream",
     "text": [
      "Data Driven\n",
      "Data Driven\n"
     ]
    }
   ],
   "source": [
    "# A variable name must start with a letter or the underscore character\n",
    "# A variable name can only contain alpha-numeric characters and underscores (A-z, 0-9, and _ )\n",
    "\n",
    "variable = 'Data Driven'\n",
    "# or\n",
    "var_1 = 'Data Driven'\n",
    "\n",
    "print(variable)\n",
    "print(var_1)"
   ]
  },
  {
   "cell_type": "code",
   "execution_count": 2,
   "metadata": {},
   "outputs": [
    {
     "ename": "SyntaxError",
     "evalue": "invalid token (<ipython-input-2-e883c58c5955>, line 3)",
     "output_type": "error",
     "traceback": [
      "\u001b[1;36m  File \u001b[1;32m\"<ipython-input-2-e883c58c5955>\"\u001b[1;36m, line \u001b[1;32m3\u001b[0m\n\u001b[1;33m    1_variable = 'data driven'\u001b[0m\n\u001b[1;37m     ^\u001b[0m\n\u001b[1;31mSyntaxError\u001b[0m\u001b[1;31m:\u001b[0m invalid token\n"
     ]
    }
   ],
   "source": [
    "# A variable name cannot start with a number.\n",
    "\n",
    "1_variable = 'data driven'\n",
    "1_variable"
   ]
  },
  {
   "cell_type": "code",
   "execution_count": 3,
   "metadata": {},
   "outputs": [
    {
     "ename": "NameError",
     "evalue": "name 'Age' is not defined",
     "output_type": "error",
     "traceback": [
      "\u001b[1;31m---------------------------------------------------------------------------\u001b[0m",
      "\u001b[1;31mNameError\u001b[0m                                 Traceback (most recent call last)",
      "\u001b[1;32m<ipython-input-3-0af934f55023>\u001b[0m in \u001b[0;36m<module>\u001b[1;34m\u001b[0m\n\u001b[0;32m      2\u001b[0m \u001b[1;33m\u001b[0m\u001b[0m\n\u001b[0;32m      3\u001b[0m \u001b[0mage\u001b[0m \u001b[1;33m=\u001b[0m \u001b[1;36m23\u001b[0m\u001b[1;33m\u001b[0m\u001b[1;33m\u001b[0m\u001b[0m\n\u001b[1;32m----> 4\u001b[1;33m \u001b[0mprint\u001b[0m\u001b[1;33m(\u001b[0m\u001b[0mAge\u001b[0m\u001b[1;33m)\u001b[0m\u001b[1;33m\u001b[0m\u001b[1;33m\u001b[0m\u001b[0m\n\u001b[0m",
      "\u001b[1;31mNameError\u001b[0m: name 'Age' is not defined"
     ]
    }
   ],
   "source": [
    "# Variable names are case-sensitive (age, Age and AGE are three different variables)\n",
    "\n",
    "age = 23\n",
    "print(Age)"
   ]
  },
  {
   "cell_type": "code",
   "execution_count": 4,
   "metadata": {},
   "outputs": [
    {
     "name": "stdout",
     "output_type": "stream",
     "text": [
      "Follow Data Driven For Data Science Machine Learning Post Please Like Comment Share Data Driven\n"
     ]
    }
   ],
   "source": [
    "# Write way to define a variable name:\n",
    "\n",
    "var = 'Follow'\n",
    "\n",
    "var_1 = 'Data Driven'\n",
    "\n",
    "Myvar = 'For'\n",
    "\n",
    "_var1 = 'Data Science'\n",
    "\n",
    "my_var_1 = 'Machine Learning'\n",
    "\n",
    "myVar = 'Post'\n",
    "\n",
    "MyVar = 'Please'\n",
    "\n",
    "MYvar = 'Like'\n",
    "\n",
    "myVAR = 'Comment'\n",
    "\n",
    "MYVAR = 'Share'\n",
    "\n",
    "MY_VAR_1 = 'Data Driven'\n",
    "\n",
    "print(var,var_1, Myvar, _var1, my_var_1, myVar, MyVar, MYvar, myVAR, MYVAR, MY_VAR_1)"
   ]
  },
  {
   "cell_type": "code",
   "execution_count": 5,
   "metadata": {},
   "outputs": [
    {
     "name": "stdout",
     "output_type": "stream",
     "text": [
      "Data Driven\n",
      "<class 'str'>\n",
      "--------------------------------\n",
      "[1, 2, 3, 4, 5, 6, 'Data Driven']\n",
      "<class 'list'>\n",
      "--------------------------------\n",
      "(1, 2, 3, 4, 5, 6, 'Data Driven')\n",
      "<class 'tuple'>\n",
      "--------------------------------\n",
      "{1, 2, 3, 4, 5, 6, 'Data Driven'}\n",
      "<class 'set'>\n",
      "--------------------------------\n",
      "{'firstname': 'Data', 'lastname': 'Driven', 'age': 23, 'Platform': 'Instagram'}\n",
      "<class 'dict'>\n",
      "--------------------------------\n",
      "True\n",
      "<class 'bool'>\n"
     ]
    }
   ],
   "source": [
    "# You can store anything in Variable.\n",
    "\n",
    "data = 'Data Driven'  \n",
    "print(data)\n",
    "print(type(data))                              # This varibale belongs to class \"String\"\n",
    "print('--------------------------------')\n",
    "\n",
    "data = [1,2,3,4,5,6,'Data Driven']\n",
    "print(data)\n",
    "print(type(data))                             # This variable belong to class [List]\n",
    "print('--------------------------------')\n",
    "\n",
    "data = (1,2,3,4,5,6,'Data Driven')\n",
    "print(data)\n",
    "print(type(data))                             # This variable belong to class (Tuple)\n",
    "print('--------------------------------')\n",
    "\n",
    "data = {1,2,3,4,5,6,'Data Driven'}\n",
    "print(data)\n",
    "print(type(data))                             # This variable belong to class {Set}\n",
    "print('--------------------------------')\n",
    "\n",
    "data = {'firstname' : 'Data', 'lastname' : 'Driven', 'age' : 23, 'Platform' : 'Instagram'}\n",
    "print(data)\n",
    "print(type(data))                             # This variable belong to class {Dictionary}\n",
    "print('--------------------------------')\n",
    "\n",
    "data = True\n",
    "print(data)\n",
    "print(type(data))                             # This variable belong to class Boolean"
   ]
  },
  {
   "cell_type": "code",
   "execution_count": null,
   "metadata": {},
   "outputs": [],
   "source": []
  }
 ],
 "metadata": {
  "kernelspec": {
   "display_name": "Python 3",
   "language": "python",
   "name": "python3"
  },
  "language_info": {
   "codemirror_mode": {
    "name": "ipython",
    "version": 3
   },
   "file_extension": ".py",
   "mimetype": "text/x-python",
   "name": "python",
   "nbconvert_exporter": "python",
   "pygments_lexer": "ipython3",
   "version": "3.7.4"
  }
 },
 "nbformat": 4,
 "nbformat_minor": 4
}
