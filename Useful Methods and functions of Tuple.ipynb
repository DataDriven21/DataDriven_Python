{
 "cells": [
  {
   "cell_type": "markdown",
   "metadata": {},
   "source": [
    "# Methods and Functions of tuple\n",
    "* index()\n",
    "* count()\n",
    "## functions\n",
    "* len()\n",
    "* max()\n",
    "* min()\n",
    "* sum()\n",
    "* sorted()"
   ]
  },
  {
   "cell_type": "markdown",
   "metadata": {},
   "source": [
    "# Creating a tuple"
   ]
  },
  {
   "cell_type": "code",
   "execution_count": 1,
   "metadata": {},
   "outputs": [
    {
     "name": "stdout",
     "output_type": "stream",
     "text": [
      "<class 'tuple'>\n"
     ]
    }
   ],
   "source": [
    "numbers = (1,2,3)\n",
    "print(type(numbers))"
   ]
  },
  {
   "cell_type": "markdown",
   "metadata": {},
   "source": [
    "# Unpacking a tuple"
   ]
  },
  {
   "cell_type": "code",
   "execution_count": 2,
   "metadata": {},
   "outputs": [
    {
     "name": "stdout",
     "output_type": "stream",
     "text": [
      "After Unpacking (1, 2, 3)\n",
      "1\n",
      "2\n",
      "3\n"
     ]
    }
   ],
   "source": [
    "a,b,c = numbers    # each element stored in each varible\n",
    "print('After Unpacking', numbers)\n",
    "print(a)\n",
    "print(b)\n",
    "print(c)"
   ]
  },
  {
   "cell_type": "markdown",
   "metadata": {},
   "source": [
    "# Creating a tuple with single element"
   ]
  },
  {
   "cell_type": "code",
   "execution_count": 3,
   "metadata": {},
   "outputs": [
    {
     "name": "stdout",
     "output_type": "stream",
     "text": [
      "<class 'int'>\n",
      "<class 'tuple'>\n"
     ]
    }
   ],
   "source": [
    "t = (1)  # this will always give the int\n",
    "type(t)\n",
    "print(type(t))\n",
    "\n",
    "t = (1,) # for creating a tuple with single element we use comma after that element, so python interpreter can understand that it's a tuple not a int.\n",
    "print(type(t))"
   ]
  },
  {
   "cell_type": "markdown",
   "metadata": {},
   "source": [
    "# index()\n",
    "## Searches the tuple for a specified value and returns the position of where it was found"
   ]
  },
  {
   "cell_type": "code",
   "execution_count": 4,
   "metadata": {},
   "outputs": [
    {
     "name": "stdout",
     "output_type": "stream",
     "text": [
      "Searching the element 5 in numbers\n",
      "Position of element 5 in numbers is:  4 position\n"
     ]
    }
   ],
   "source": [
    "numbers = (1,2,3,4,5,6,7,8,9,10)\n",
    "print('Searching the element 5 in numbers')\n",
    "print('Position of element 5 in numbers is: ', numbers.index(5), 'position')"
   ]
  },
  {
   "cell_type": "markdown",
   "metadata": {},
   "source": [
    "# count()\n",
    "## Returns the number of times a specified value occurs in a tuple"
   ]
  },
  {
   "cell_type": "code",
   "execution_count": 5,
   "metadata": {},
   "outputs": [
    {
     "name": "stdout",
     "output_type": "stream",
     "text": [
      "Counting the appearance of 21 in numbers\n",
      "How many time 21 is present in the numbers: 6 times\n"
     ]
    }
   ],
   "source": [
    "numbers = (1,2,3,4,5,6,7,8,9,9,8,7,21,21,21,1,1,3,4,521,24,5,2,21,4,353,2121,21,34,554,53,221,23,4321,21)\n",
    "print('Counting the appearance of 21 in numbers')\n",
    "print('How many time 21 is present in the numbers:', numbers.count(21), 'times')"
   ]
  },
  {
   "cell_type": "markdown",
   "metadata": {},
   "source": [
    "# Funtions\n",
    "## sorted()\n",
    "### This function returns a a list of sorted version of the element of tuple. "
   ]
  },
  {
   "cell_type": "code",
   "execution_count": 6,
   "metadata": {},
   "outputs": [
    {
     "name": "stdout",
     "output_type": "stream",
     "text": [
      "Numbers before sorted function: (1, 2, 3, 4, 5, 6, 7, 8, 9, 9, 8, 7, 21, 21, 21, 1, 1, 3, 4, 521, 24, 5, 2)\n",
      "---------------------------------------------------------------------------------------------------------\n",
      "Numbers after sorted function: [1, 1, 1, 2, 2, 3, 3, 4, 4, 5, 5, 6, 7, 7, 8, 8, 9, 9, 21, 21, 21, 24, 521]\n",
      "<class 'list'>\n"
     ]
    }
   ],
   "source": [
    "numbers = (1,2,3,4,5,6,7,8,9,9,8,7,21,21,21,1,1,3,4,521,24,5,2)\n",
    "print('Numbers before sorted function:', numbers)\n",
    "print('---------------------------------------------------------------------------------------------------------')\n",
    "print('Numbers after sorted function:', sorted(numbers))\n",
    "print(type(sorted(numbers)))"
   ]
  },
  {
   "cell_type": "markdown",
   "metadata": {},
   "source": [
    "## len()\n",
    "### The len() function returns its length of tuple."
   ]
  },
  {
   "cell_type": "code",
   "execution_count": 7,
   "metadata": {},
   "outputs": [
    {
     "name": "stdout",
     "output_type": "stream",
     "text": [
      "What is the lenght of numbers: 23\n"
     ]
    }
   ],
   "source": [
    "numbers = (1,2,3,4,5,6,7,8,9,9,8,7,21,21,21,1,1,3,4,521,24,5,2)\n",
    "print('What is the lenght of numbers:', len(numbers))"
   ]
  },
  {
   "cell_type": "markdown",
   "metadata": {},
   "source": [
    "## min()\n",
    "### min() returns the item with the lowest values."
   ]
  },
  {
   "cell_type": "code",
   "execution_count": 8,
   "metadata": {},
   "outputs": [
    {
     "name": "stdout",
     "output_type": "stream",
     "text": [
      "What is the lowest element of numbers: 1\n"
     ]
    }
   ],
   "source": [
    "numbers = (1,2,3,4,5,6,7,8,9,9,8,7,21,21,21,1,1,3,4,521,24,5,2)\n",
    "print('What is the lowest element of numbers:', min(numbers))"
   ]
  },
  {
   "cell_type": "markdown",
   "metadata": {},
   "source": [
    "## max()\n",
    "### It returns the item from the tuple with the highest value."
   ]
  },
  {
   "cell_type": "code",
   "execution_count": 9,
   "metadata": {},
   "outputs": [
    {
     "name": "stdout",
     "output_type": "stream",
     "text": [
      "What is the Highest element of numbers: 521\n"
     ]
    }
   ],
   "source": [
    "numbers = (1,2,3,4,5,6,7,8,9,9,8,7,21,21,21,1,1,3,4,521,24,5,2)\n",
    "print('What is the Highest element of numbers:', max(numbers))"
   ]
  },
  {
   "cell_type": "markdown",
   "metadata": {},
   "source": [
    "## sum()\n",
    "### This function returns the arithmetic sum of all the items in the tuple."
   ]
  },
  {
   "cell_type": "code",
   "execution_count": 10,
   "metadata": {},
   "outputs": [
    {
     "name": "stdout",
     "output_type": "stream",
     "text": [
      "What is the Sum of numbers: 693\n"
     ]
    }
   ],
   "source": [
    "numbers = (1,2,3,4,5,6,7,8,9,9,8,7,21,21,21,1,1,3,4,521,24,5,2)\n",
    "print('What is the Sum of numbers:', sum(numbers))"
   ]
  },
  {
   "cell_type": "code",
   "execution_count": null,
   "metadata": {},
   "outputs": [],
   "source": [
    "# There is a slight differnce between methods and functions.\n",
    "# In methods we use the particular method after our variable, like this --> numbers.index()\n",
    "# In function we give our variable to the particular function, like this --> len(numbers)"
   ]
  }
 ],
 "metadata": {
  "kernelspec": {
   "display_name": "Python 3",
   "language": "python",
   "name": "python3"
  },
  "language_info": {
   "codemirror_mode": {
    "name": "ipython",
    "version": 3
   },
   "file_extension": ".py",
   "mimetype": "text/x-python",
   "name": "python",
   "nbconvert_exporter": "python",
   "pygments_lexer": "ipython3",
   "version": "3.7.4"
  }
 },
 "nbformat": 4,
 "nbformat_minor": 4
}
